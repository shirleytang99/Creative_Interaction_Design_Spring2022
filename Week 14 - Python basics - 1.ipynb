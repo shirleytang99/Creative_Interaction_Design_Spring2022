{
 "cells": [
  {
   "cell_type": "code",
   "execution_count": 1,
   "id": "a4f72151",
   "metadata": {},
   "outputs": [
    {
     "data": {
      "text/plain": [
       "int"
      ]
     },
     "execution_count": 1,
     "metadata": {},
     "output_type": "execute_result"
    }
   ],
   "source": [
    "123\n",
    "type(123)"
   ]
  },
  {
   "cell_type": "code",
   "execution_count": 2,
   "id": "847ada77",
   "metadata": {},
   "outputs": [
    {
     "data": {
      "text/plain": [
       "float"
      ]
     },
     "execution_count": 2,
     "metadata": {},
     "output_type": "execute_result"
    }
   ],
   "source": [
    "123.45\n",
    "type(123.45)"
   ]
  },
  {
   "cell_type": "code",
   "execution_count": 3,
   "id": "50d0a6e7",
   "metadata": {},
   "outputs": [
    {
     "data": {
      "text/plain": [
       "str"
      ]
     },
     "execution_count": 3,
     "metadata": {},
     "output_type": "execute_result"
    }
   ],
   "source": [
    "'123.45'\n",
    "type('123.45')"
   ]
  },
  {
   "cell_type": "code",
   "execution_count": 4,
   "id": "b9ab3d7d",
   "metadata": {},
   "outputs": [
    {
     "name": "stdout",
     "output_type": "stream",
     "text": [
      "Hello world!\n"
     ]
    }
   ],
   "source": [
    "print('Hello world!')"
   ]
  },
  {
   "cell_type": "code",
   "execution_count": 6,
   "id": "f4db5b1d",
   "metadata": {},
   "outputs": [
    {
     "name": "stdout",
     "output_type": "stream",
     "text": [
      "123 123.45 123.45\n",
      "<class 'int'> <class 'float'> <class 'str'>\n"
     ]
    }
   ],
   "source": [
    "x = 123\n",
    "y = 123.45\n",
    "z = '123.45'\n",
    "print(x,y,z)\n",
    "print(type(x),type(y),type(z))"
   ]
  },
  {
   "cell_type": "code",
   "execution_count": 7,
   "id": "6330743c",
   "metadata": {},
   "outputs": [
    {
     "name": "stdout",
     "output_type": "stream",
     "text": [
      "<class 'bool'>\n"
     ]
    }
   ],
   "source": [
    "sign_up = True\n",
    "print(type(sign_up))"
   ]
  },
  {
   "cell_type": "code",
   "execution_count": 8,
   "id": "739ce8e8",
   "metadata": {},
   "outputs": [
    {
     "name": "stdout",
     "output_type": "stream",
     "text": [
      "The result of 123+123.45=246.45\n"
     ]
    }
   ],
   "source": [
    "z = 'The result of '+ str(x) + '+' + str(y) + '=' + str(x+y)\n",
    "print(z)"
   ]
  },
  {
   "cell_type": "code",
   "execution_count": 9,
   "id": "74624460",
   "metadata": {},
   "outputs": [
    {
     "name": "stdout",
     "output_type": "stream",
     "text": [
      "I am\n",
      "I am from CUC\n",
      "CUC\n"
     ]
    }
   ],
   "source": [
    "z = 'I am from CUC'\n",
    "print(z[0:4])\n",
    "print(z[0:14])\n",
    "print(z[-3:])"
   ]
  },
  {
   "cell_type": "code",
   "execution_count": 11,
   "id": "1d310bad",
   "metadata": {},
   "outputs": [
    {
     "name": "stdout",
     "output_type": "stream",
     "text": [
      "13\n",
      "I am from CUC\n",
      "UC\n",
      "CUC\n"
     ]
    }
   ],
   "source": [
    "print(len(z))\n",
    "print(z[0:13])\n",
    "print(z[-2:])\n",
    "print(z[10:13])"
   ]
  },
  {
   "cell_type": "code",
   "execution_count": 17,
   "id": "89b9026a",
   "metadata": {},
   "outputs": [
    {
     "name": "stdout",
     "output_type": "stream",
     "text": [
      "Princess Kate\n"
     ]
    }
   ],
   "source": [
    "famous_person = 'Princess Diana'\n",
    "famous_person2 = 'Prince Charles'\n",
    "famous_person3 = famous_person.replace('Diana','Kate')\n",
    "print(famous_person3)"
   ]
  },
  {
   "cell_type": "code",
   "execution_count": 13,
   "id": "75103ff5",
   "metadata": {},
   "outputs": [
    {
     "name": "stdout",
     "output_type": "stream",
     "text": [
      "['Princess', 'Diana']\n"
     ]
    }
   ],
   "source": [
    "print(famous_person.split())"
   ]
  },
  {
   "cell_type": "code",
   "execution_count": 14,
   "id": "3dd46cd0",
   "metadata": {},
   "outputs": [
    {
     "name": "stdout",
     "output_type": "stream",
     "text": [
      "Prince Willam\n"
     ]
    }
   ],
   "source": [
    "famous_person4 = famous_person2.replace('Charles','Willam')\n",
    "print(famous_person4)"
   ]
  },
  {
   "cell_type": "code",
   "execution_count": 15,
   "id": "a65820fb",
   "metadata": {},
   "outputs": [
    {
     "name": "stdout",
     "output_type": "stream",
     "text": [
      "PRINCE WILLAM\n"
     ]
    }
   ],
   "source": [
    "famous_person4 = famous_person4.upper()\n",
    "print(famous_person4)"
   ]
  },
  {
   "cell_type": "code",
   "execution_count": 18,
   "id": "b80e913d",
   "metadata": {},
   "outputs": [
    {
     "name": "stdout",
     "output_type": "stream",
     "text": [
      "0\n",
      "9\n",
      "-1\n"
     ]
    }
   ],
   "source": [
    "print(famous_person4.find('PRINCE'))\n",
    "print(famous_person.find('Diana'))\n",
    "print(famous_person.find('Kate'))"
   ]
  },
  {
   "cell_type": "code",
   "execution_count": 19,
   "id": "e8299a75",
   "metadata": {},
   "outputs": [
    {
     "data": {
      "text/plain": [
       "str"
      ]
     },
     "execution_count": 19,
     "metadata": {},
     "output_type": "execute_result"
    }
   ],
   "source": [
    "x = 3.14\n",
    "y = str(x)\n",
    "type(y)"
   ]
  },
  {
   "cell_type": "code",
   "execution_count": 21,
   "id": "02e1ac0d",
   "metadata": {},
   "outputs": [
    {
     "data": {
      "text/plain": [
       "float"
      ]
     },
     "execution_count": 21,
     "metadata": {},
     "output_type": "execute_result"
    }
   ],
   "source": [
    "x = 3\n",
    "y = float(x)\n",
    "type(y)"
   ]
  },
  {
   "cell_type": "code",
   "execution_count": 22,
   "id": "c87644b0",
   "metadata": {},
   "outputs": [
    {
     "name": "stdout",
     "output_type": "stream",
     "text": [
      "(1, 1.32, 2, 'CUC')\n"
     ]
    }
   ],
   "source": [
    "tuple1=(1,1.32,2,'CUC')\n",
    "print(tuple1)"
   ]
  },
  {
   "cell_type": "code",
   "execution_count": 23,
   "id": "104ef96e",
   "metadata": {},
   "outputs": [
    {
     "name": "stdout",
     "output_type": "stream",
     "text": [
      "[1, 1.5, 2, 3, 4, 5]\n"
     ]
    }
   ],
   "source": [
    "list1=[1,2,3,4,5,1.5]\n",
    "print(sorted(list1))"
   ]
  },
  {
   "cell_type": "code",
   "execution_count": 24,
   "id": "d8f7f8ed",
   "metadata": {},
   "outputs": [
    {
     "name": "stdout",
     "output_type": "stream",
     "text": [
      "60\n",
      "[100, 95, 85, 60, 60.5, 70, 50]\n"
     ]
    }
   ],
   "source": [
    "score_list = [100,95,85,60,60.5,70]\n",
    "print(score_list[3])\n",
    "score_list.append(50)\n",
    "print(score_list)"
   ]
  },
  {
   "cell_type": "code",
   "execution_count": 25,
   "id": "be21b509",
   "metadata": {},
   "outputs": [
    {
     "name": "stdout",
     "output_type": "stream",
     "text": [
      "[100, 95, 85, 60, 60.5, 70]\n"
     ]
    }
   ],
   "source": [
    "del(score_list[6])\n",
    "print(score_list)"
   ]
  },
  {
   "cell_type": "code",
   "execution_count": 26,
   "id": "9ab970a4",
   "metadata": {},
   "outputs": [
    {
     "name": "stdout",
     "output_type": "stream",
     "text": [
      "[60, 60.5, 70]\n",
      "[100, 95, 85, 60, 60.5, 70]\n"
     ]
    }
   ],
   "source": [
    "print(score_list[3:7])\n",
    "print(score_list)"
   ]
  },
  {
   "cell_type": "code",
   "execution_count": 27,
   "id": "4a4deb1d",
   "metadata": {},
   "outputs": [
    {
     "name": "stdout",
     "output_type": "stream",
     "text": [
      "[100, 95, 85, 60, 60.5, 70, [1, 2, 3, 'I am from CUC', True]]\n"
     ]
    }
   ],
   "source": [
    "score_list.append([1,2,3,'I am from CUC',True])\n",
    "print(score_list)"
   ]
  },
  {
   "cell_type": "code",
   "execution_count": 28,
   "id": "8460a6f1",
   "metadata": {},
   "outputs": [
    {
     "name": "stdout",
     "output_type": "stream",
     "text": [
      "[100, 95, 85, 60, 60.5, 70, [1, 2, 3, 'I am from CUC', True], [11, 22, 33, [44, 55, 66]]]\n"
     ]
    }
   ],
   "source": [
    "second_list = [11,22,33]\n",
    "second_list.append([44,55,66])\n",
    "score_list.append(second_list)\n",
    "print(score_list)"
   ]
  },
  {
   "cell_type": "code",
   "execution_count": 29,
   "id": "ce294ed1",
   "metadata": {},
   "outputs": [
    {
     "name": "stdout",
     "output_type": "stream",
     "text": [
      "[95, 85, 60, 60.5, 70, [1, 2, 3, 'I am from CUC', True], [11, 22, 33, [44, 55, 66]]]\n"
     ]
    }
   ],
   "source": [
    "score_list.remove(100)\n",
    "print(score_list)"
   ]
  },
  {
   "cell_type": "code",
   "execution_count": 31,
   "id": "a1fb4259",
   "metadata": {},
   "outputs": [
    {
     "name": "stdout",
     "output_type": "stream",
     "text": [
      "{'Peter': 80, 'David': 70, 'Mary': 90}\n",
      "dict_keys(['Peter', 'David', 'Mary'])\n",
      "dict_values([80, 70, 90])\n"
     ]
    }
   ],
   "source": [
    "dict1 = {'Peter':80, 'David':70, 'Mary':90}\n",
    "print(dict1)\n",
    "print(dict1.keys())\n",
    "print(dict1.values())"
   ]
  },
  {
   "cell_type": "code",
   "execution_count": 32,
   "id": "a37060b1",
   "metadata": {},
   "outputs": [
    {
     "name": "stdout",
     "output_type": "stream",
     "text": [
      "70\n"
     ]
    }
   ],
   "source": [
    "print(dict1['David'])"
   ]
  },
  {
   "cell_type": "code",
   "execution_count": 33,
   "id": "ad51180c",
   "metadata": {},
   "outputs": [
    {
     "name": "stdout",
     "output_type": "stream",
     "text": [
      "[{'Peter': 80, 'David': 70, 'Mary': 90}]\n"
     ]
    }
   ],
   "source": [
    "score_list = []\n",
    "score_list.append(dict1)\n",
    "print(score_list)"
   ]
  },
  {
   "cell_type": "code",
   "execution_count": 35,
   "id": "9cc87251",
   "metadata": {},
   "outputs": [
    {
     "name": "stdout",
     "output_type": "stream",
     "text": [
      "[{'Peter': 80, 'David': 70, 'Mary': 90}, {'Peter': 100, 'David': 90, 'Mary': 80}]\n"
     ]
    }
   ],
   "source": [
    "test1 = {'Peter': 80, 'David': 70, 'Mary': 90}\n",
    "test2 = {'Peter': 100, 'David': 90,'Mary': 80}\n",
    "score_list= []\n",
    "score_list.append(test1)\n",
    "score_list.append(test2)\n",
    "print(score_list)"
   ]
  },
  {
   "cell_type": "code",
   "execution_count": 36,
   "id": "9977419c",
   "metadata": {},
   "outputs": [
    {
     "name": "stdout",
     "output_type": "stream",
     "text": [
      "{1.0, 'Hello', (1, 2, 3)}\n"
     ]
    }
   ],
   "source": [
    "my_set = {1.0,'Hello',(1,2,3)}\n",
    "print(my_set)"
   ]
  },
  {
   "cell_type": "code",
   "execution_count": 37,
   "id": "7310ec2a",
   "metadata": {},
   "outputs": [
    {
     "name": "stdout",
     "output_type": "stream",
     "text": [
      "<class 'set'>\n"
     ]
    }
   ],
   "source": [
    "print(type(my_set))"
   ]
  },
  {
   "cell_type": "code",
   "execution_count": 38,
   "id": "93b3649c",
   "metadata": {},
   "outputs": [
    {
     "name": "stdout",
     "output_type": "stream",
     "text": [
      "{1, 2, 4, 5}\n"
     ]
    }
   ],
   "source": [
    "my_set = {1,2,2,4,5}\n",
    "print(my_set)"
   ]
  },
  {
   "cell_type": "code",
   "execution_count": null,
   "id": "f3168962",
   "metadata": {},
   "outputs": [],
   "source": []
  }
 ],
 "metadata": {
  "kernelspec": {
   "display_name": "Python 3",
   "language": "python",
   "name": "python3"
  },
  "language_info": {
   "codemirror_mode": {
    "name": "ipython",
    "version": 3
   },
   "file_extension": ".py",
   "mimetype": "text/x-python",
   "name": "python",
   "nbconvert_exporter": "python",
   "pygments_lexer": "ipython3",
   "version": "3.8.8"
  }
 },
 "nbformat": 4,
 "nbformat_minor": 5
}
